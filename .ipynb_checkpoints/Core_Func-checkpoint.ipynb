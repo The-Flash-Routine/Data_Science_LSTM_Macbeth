{
 "cells": [
  {
   "cell_type": "code",
   "execution_count": 113,
   "metadata": {},
   "outputs": [],
   "source": [
    "#for numpy\n",
    "import numpy as np\n",
    "\n",
    "#for keras\n",
    "from keras.models import Sequential\n",
    "from keras.layers import Dense,Dropout,LSTM\n",
    "\n",
    "#for regular expression\n",
    "import re\n",
    "\n",
    "#for dealing with files\n",
    "import os"
   ]
  },
  {
   "cell_type": "markdown",
   "metadata": {},
   "source": [
    "The contents or original text is in \"Macbeth_original content.txt\"\n",
    "For saving computational time removed half of its content and saved in \"Macbeth_partial_original.txt\"\n",
    "Created copy of it named \"Macbeth.txt\" for processing"
   ]
  },
  {
   "cell_type": "code",
   "execution_count": 114,
   "metadata": {},
   "outputs": [],
   "source": [
    "#this converts all characters in a file to lower case by taking file location as argument\n",
    "def conv_tolower(dfl):\n",
    "    filename=re.search(r'/(\\w+).txt',dfl)\n",
    "    filename=filename.group(1)\n",
    "    filename=filename+\".txt\"\n",
    "    old=open(dfl,'r')\n",
    "    new=open(\"temp.txt\",'w')\n",
    "    for line in old:\n",
    "        for char in line:\n",
    "            if char.isalpha()==True:\n",
    "                if char.isupper()==True:\n",
    "                    new.write(char.lower())\n",
    "                else:\n",
    "                    new.write(char)\n",
    "            else:\n",
    "                new.write(char)\n",
    "    new.close()\n",
    "    old.close()\n",
    "    os.remove(filename)\n",
    "    os.rename(\"temp.txt\",filename)\n",
    "    new=open(dfl,'r')\n",
    "    print(new.read())\n",
    "    new.close()"
   ]
  },
  {
   "cell_type": "code",
   "execution_count": 115,
   "metadata": {},
   "outputs": [],
   "source": [
    "#maps a character to a unique 0,1 sequence\n",
    "def char_mapping(char):\n",
    "            hey=np.zeros(44).reshape(-1,1)\n",
    "            if char=='a':\n",
    "                hey[0]=1\n",
    "            elif char=='b':\n",
    "                hey[1]=1\n",
    "            elif char=='c':\n",
    "                hey[2]=1\n",
    "            elif char=='d':\n",
    "                hey[3]=1\n",
    "            elif char=='e':\n",
    "                hey[4]=1\n",
    "            elif char=='f':\n",
    "                hey[5]=1\n",
    "            elif char=='g':\n",
    "                hey[6]=1\n",
    "            elif char=='h':\n",
    "                hey[7]=1\n",
    "            elif char=='i':\n",
    "                hey[8]=1\n",
    "            elif char=='j':\n",
    "                hey[9]=1\n",
    "            elif char=='k':\n",
    "                hey[10]=1\n",
    "            elif char=='l':\n",
    "                hey[11]=1\n",
    "            elif char=='m':\n",
    "                hey[12]=1\n",
    "            elif char=='n':\n",
    "                hey[13]=1\n",
    "            elif char=='o':\n",
    "                hey[14]=1\n",
    "            elif char=='p':\n",
    "                hey[15]=1\n",
    "            elif char=='q':\n",
    "                hey[16]=1\n",
    "            elif char=='r':\n",
    "                hey[17]=1\n",
    "            elif char=='s':\n",
    "                hey[18]=1\n",
    "            elif char=='t':\n",
    "                hey[19]=1\n",
    "            elif char=='u':\n",
    "                hey[20]=1\n",
    "            elif char=='v':\n",
    "                hey[21]=1\n",
    "            elif char=='w':\n",
    "                hey[22]=1\n",
    "            elif char=='x':\n",
    "                hey[23]=1\n",
    "            elif char=='y':\n",
    "                hey[24]=1\n",
    "            elif char=='z':\n",
    "                hey[25]=1\n",
    "            elif char==',':\n",
    "                hey[26]=1\n",
    "            elif char=='.':\n",
    "                hey[27]=1\n",
    "            elif char=='?':\n",
    "                hey[28]=1\n",
    "            elif char==\"'\":\n",
    "                hey[29]=1\n",
    "            elif char==' ':\n",
    "                hey[30]=1\n",
    "            elif char==')':\n",
    "                hey[31]=1\n",
    "            elif char=='(':\n",
    "                hey[32]=1\n",
    "            elif char==']':\n",
    "                hey[33]=1\n",
    "            elif char=='[':\n",
    "                hey[34]=1\n",
    "            elif char=='1':\n",
    "                hey[35]=1\n",
    "            elif char=='2':\n",
    "                hey[36]=1\n",
    "            elif char=='3':\n",
    "                hey[37]=1\n",
    "            elif char=='-':\n",
    "                hey[38]=1\n",
    "            elif char==':':\n",
    "                hey[39]=1\n",
    "            elif char==';':\n",
    "                hey[40]=1\n",
    "            elif char=='!':\n",
    "                hey[41]=1\n",
    "            elif char=='&':\n",
    "                hey[42]=1\n",
    "            elif char=='$':\n",
    "                hey[43]=1\n",
    "            return hey"
   ]
  },
  {
   "cell_type": "code",
   "execution_count": 161,
   "metadata": {},
   "outputs": [],
   "source": [
    "#maps unique 0,1 sequence back to character\n",
    "def back_map(b):\n",
    "  if b==0:\n",
    "    return 'a'\n",
    "  elif b==1:\n",
    "    return 'b'\n",
    "  elif b==2:\n",
    "    return 'c'\n",
    "  elif b==3:\n",
    "    return 'd'\n",
    "  elif b==4:\n",
    "    return 'e'\n",
    "  elif b==5:\n",
    "    return 'f'\n",
    "  elif b==6:\n",
    "    return 'g'\n",
    "  elif b==7:\n",
    "    return 'h'\n",
    "  elif b==8:\n",
    "    return 'i'\n",
    "  elif b==9:\n",
    "    return 'j'\n",
    "  elif b==10:\n",
    "    return 'k'\n",
    "  elif b==11:\n",
    "    return 'l'\n",
    "  elif b==12:\n",
    "    return 'm'\n",
    "  elif b==13:\n",
    "    return 'n'\n",
    "  elif b==14:\n",
    "    return 'o'\n",
    "  elif b==15:\n",
    "    return 'p'\n",
    "  elif b==16:\n",
    "    return 'q'\n",
    "  elif b==17:\n",
    "    return 'r'\n",
    "  elif b==18:\n",
    "    return 's'\n",
    "  elif b==19:\n",
    "    return 't'\n",
    "  elif b==20:\n",
    "    return 'u'\n",
    "  elif b==21:\n",
    "    return 'v'\n",
    "  elif b==22:\n",
    "    return 'w'\n",
    "  elif b==23:\n",
    "    return 'x'\n",
    "  elif b==24:\n",
    "    return 'y'\n",
    "  elif b==25:\n",
    "    return 'z'\n",
    "  elif b==26:\n",
    "    return ','\n",
    "  elif b==27:\n",
    "    return '.'\n",
    "  elif b==28:\n",
    "    return '?'\n",
    "  elif b==29:\n",
    "    return \"'\"\n",
    "  elif b==30:\n",
    "    return ' '\n",
    "  elif b==31:\n",
    "    return ')'\n",
    "  elif b==32:\n",
    "    return '('\n",
    "  elif b==33:\n",
    "    return ']'\n",
    "  elif b==34:\n",
    "    return '['\n",
    "  elif b==35:\n",
    "    return '1'\n",
    "  elif b==36:\n",
    "    return '2'\n",
    "  elif b==37:\n",
    "    return '3'\n",
    "  elif b==38:\n",
    "    return '-'\n",
    "  elif b==39:\n",
    "    return ':'\n",
    "  elif b==40:\n",
    "    return ';'\n",
    "  elif b==41:\n",
    "    return '!'\n",
    "  elif b==42:\n",
    "    return '&'\n",
    "  elif b==43:\n",
    "    return '\\n'"
   ]
  },
  {
   "cell_type": "code",
   "execution_count": 116,
   "metadata": {},
   "outputs": [],
   "source": [
    "def generate_it(dfl):\n",
    "    fil=open(dfl,'r')\n",
    "    file=fil.read()\n",
    "    x=np.zeros(44).reshape(-1,1)\n",
    "    for line in file:\n",
    "        for chary in line:\n",
    "            venom=char_mapping(chary)\n",
    "            x=np.hstack((x,venom))\n",
    "    fil.close()\n",
    "    return np.transpose(x[:,1:])"
   ]
  },
  {
   "cell_type": "code",
   "execution_count": 117,
   "metadata": {},
   "outputs": [],
   "source": [
    "#this is removes all newline and replace them with a $ sign\n",
    "def new_line(dfl):\n",
    "    filename=re.search(r'/\\w+.txt',dfl)\n",
    "    hey=filename.group()\n",
    "    hey=hey[1:]\n",
    "    new=open(\"temp.txt\",\"w\")\n",
    "    old=open(dfl,\"r\")\n",
    "    oldread=old.read()\n",
    "    heya=re.sub(r'[\\n]+',r'$',oldread)\n",
    "    new.write(heya)\n",
    "    new.close()\n",
    "    old.close()\n",
    "    os.remove(hey)\n",
    "    os.rename(\"temp.txt\",hey)\n",
    "    new=open(dfl,'r')\n",
    "    print(new.read())\n",
    "    new.close()"
   ]
  },
  {
   "cell_type": "code",
   "execution_count": 118,
   "metadata": {},
   "outputs": [],
   "source": [
    "dfl=\"C:/Users/Ritik/Desktop/Projects_Flash/LSTM_Macbeth/Macbeth.txt\""
   ]
  },
  {
   "cell_type": "markdown",
   "metadata": {},
   "source": [
    "Reading this text file in text\n",
    "I have replaced new line characters with '$' sign"
   ]
  },
  {
   "cell_type": "code",
   "execution_count": 119,
   "metadata": {},
   "outputs": [
    {
     "name": "stdout",
     "output_type": "stream",
     "text": [
      "the tragedie of macbeth$actus primus. scoena prima.$thunder and lightning. enter three witches.$  1. when shall we three meet againe?$in thunder, lightning, or in raine?$  2. when the hurley-burley's done,$when the battaile's lost, and wonne$   $  lady. they met me in the day of successe: and i haue$learn'd by the perfect'st report, they haue more in them, then$mortall knowledge. when i burnt in desire to question them$further, they made themselues ayre, into which they vanish'd.$whiles i stood rapt in the wonder of it, came missiues from$the king, who all-hail'd me thane of cawdor, by which title$before, these weyward sisters saluted me, and referr'd me to$the comming on of time, with haile king that shalt be. this$haue i thought good to deliuer thee (my dearest partner of$greatnesse) that thou might'st not loose the dues of reioycing$by being ignorant of what greatnesse is promis'd thee. lay$it to thy heart and farewell.$flourish. exeunt omnes.$finis. the tragedie of macbeth.\n"
     ]
    }
   ],
   "source": [
    "text=open(dfl,'r+')\n",
    "text=text.read()\n",
    "print(text)"
   ]
  },
  {
   "cell_type": "code",
   "execution_count": 120,
   "metadata": {},
   "outputs": [
    {
     "name": "stdout",
     "output_type": "stream",
     "text": [
      "the tragedie of macbeth$actus primus. scoena prima.$thunder and lightning. enter three witches.$  1. when shall we three meet againe?$in thunder, lightning, or in raine?$  2. when the hurley-burley's done,$when the battaile's lost, and wonne$   $  lady. they met me in the day of successe: and i haue$learn'd by the perfect'st report, they haue more in them, then$mortall knowledge. when i burnt in desire to question them$further, they made themselues ayre, into which they vanish'd.$whiles i stood rapt in the wonder of it, came missiues from$the king, who all-hail'd me thane of cawdor, by which title$before, these weyward sisters saluted me, and referr'd me to$the comming on of time, with haile king that shalt be. this$haue i thought good to deliuer thee (my dearest partner of$greatnesse) that thou might'st not loose the dues of reioycing$by being ignorant of what greatnesse is promis'd thee. lay$it to thy heart and farewell.$flourish. exeunt omnes.$finis. the tragedie of macbeth.\n",
      "the tragedie of macbeth$actus primus. scoena prima.$thunder and lightning. enter three witches.$  1. when shall we three meet againe?$in thunder, lightning, or in raine?$  2. when the hurley-burley's done,$when the battaile's lost, and wonne$   $  lady. they met me in the day of successe: and i haue$learn'd by the perfect'st report, they haue more in them, then$mortall knowledge. when i burnt in desire to question them$further, they made themselues ayre, into which they vanish'd.$whiles i stood rapt in the wonder of it, came missiues from$the king, who all-hail'd me thane of cawdor, by which title$before, these weyward sisters saluted me, and referr'd me to$the comming on of time, with haile king that shalt be. this$haue i thought good to deliuer thee (my dearest partner of$greatnesse) that thou might'st not loose the dues of reioycing$by being ignorant of what greatnesse is promis'd thee. lay$it to thy heart and farewell.$flourish. exeunt omnes.$finis. the tragedie of macbeth.\n"
     ]
    }
   ],
   "source": [
    "conv_tolower(dfl)\n",
    "new_line(dfl)"
   ]
  },
  {
   "cell_type": "markdown",
   "metadata": {},
   "source": [
    "Used this website : - https://www.somacon.com/p525.php\n",
    "\n",
    "Now this file contains\n",
    "- lowercase alphabets\n",
    "- ,\n",
    "- .\n",
    "- ?\n",
    "- '\n",
    "- newline characters\n",
    "- spaces\n",
    "- :\n",
    "- ()[]\n",
    "- &\n",
    "- !\n",
    "- ;\n",
    "- 1,2,3\n",
    "- -\n",
    "\n",
    "So in total there are 44 unique characters"
   ]
  },
  {
   "cell_type": "code",
   "execution_count": 121,
   "metadata": {},
   "outputs": [],
   "source": [
    "x=generate_it(dfl)"
   ]
  },
  {
   "cell_type": "code",
   "execution_count": 122,
   "metadata": {},
   "outputs": [
    {
     "name": "stdout",
     "output_type": "stream",
     "text": [
      "(992, 44)\n"
     ]
    }
   ],
   "source": [
    "print(x.shape)"
   ]
  },
  {
   "cell_type": "markdown",
   "metadata": {},
   "source": [
    "Now we will create blocks of 16.\n",
    "This means that if i input 16 letters as training then i will put 17th letter as training output "
   ]
  },
  {
   "cell_type": "code",
   "execution_count": 129,
   "metadata": {},
   "outputs": [],
   "source": [
    "xtrain=np.zeros(44).reshape(1,-1)\n",
    "ytrain=np.zeros(44).reshape(1,-1)\n",
    "for i in range(0,x.shape[0]-16):\n",
    "    xtrain=np.vstack((xtrain,x[i:i+16,:]))\n",
    "    ytrain=np.vstack((ytrain,x[i+16,:].reshape(1,-1)))\n",
    "xtrain=xtrain[1:,:]\n",
    "ytrain=ytrain[1:,:]"
   ]
  },
  {
   "cell_type": "code",
   "execution_count": 130,
   "metadata": {},
   "outputs": [
    {
     "name": "stdout",
     "output_type": "stream",
     "text": [
      "(15616, 44) (976, 44)\n"
     ]
    }
   ],
   "source": [
    "print(xtrain.shape,ytrain.shape)"
   ]
  },
  {
   "cell_type": "code",
   "execution_count": 131,
   "metadata": {},
   "outputs": [
    {
     "name": "stdout",
     "output_type": "stream",
     "text": [
      "(976, 16, 44)\n"
     ]
    }
   ],
   "source": [
    "xtrainy=np.reshape(xtrain,(976,16,44))\n",
    "print(xtrainy.shape)"
   ]
  },
  {
   "cell_type": "markdown",
   "metadata": {},
   "source": [
    "Now Using LSTM model from Keras"
   ]
  },
  {
   "cell_type": "code",
   "execution_count": 136,
   "metadata": {},
   "outputs": [],
   "source": [
    "model = Sequential()\n",
    "model.add(LSTM(300, input_shape=(xtrainy.shape[1],xtrainy.shape[2]), return_sequences=True))\n",
    "model.add(Dropout(0.2))\n",
    "model.add(LSTM(300))\n",
    "model.add(Dropout(0.2))\n",
    "model.add(Dense(ytrain.shape[1], activation='softmax'))\n",
    "\n",
    "model.compile(loss='categorical_crossentropy', optimizer='adam')\n"
   ]
  },
  {
   "cell_type": "code",
   "execution_count": 141,
   "metadata": {},
   "outputs": [
    {
     "name": "stdout",
     "output_type": "stream",
     "text": [
      "Epoch 1/50\n",
      "976/976 [==============================] - 20s 20ms/step - loss: 2.5865\n",
      "Epoch 2/50\n",
      "976/976 [==============================] - 20s 21ms/step - loss: 2.5395\n",
      "Epoch 3/50\n",
      "976/976 [==============================] - 21s 21ms/step - loss: 2.4856\n",
      "Epoch 4/50\n",
      "976/976 [==============================] - 23s 24ms/step - loss: 2.3983\n",
      "Epoch 5/50\n",
      "976/976 [==============================] - 20s 21ms/step - loss: 2.3128\n",
      "Epoch 6/50\n",
      "976/976 [==============================] - 22s 23ms/step - loss: 2.2399\n",
      "Epoch 7/50\n",
      "976/976 [==============================] - 20s 20ms/step - loss: 2.1915\n",
      "Epoch 8/50\n",
      "976/976 [==============================] - 19s 20ms/step - loss: 2.1435\n",
      "Epoch 9/50\n",
      "976/976 [==============================] - 20s 21ms/step - loss: 2.1360\n",
      "Epoch 10/50\n",
      "976/976 [==============================] - 21s 22ms/step - loss: 1.9898\n",
      "Epoch 11/50\n",
      "976/976 [==============================] - 21s 21ms/step - loss: 1.9286\n",
      "Epoch 12/50\n",
      "976/976 [==============================] - 25s 26ms/step - loss: 1.8323\n",
      "Epoch 13/50\n",
      "976/976 [==============================] - 29s 29ms/step - loss: 1.7406\n",
      "Epoch 14/50\n",
      "976/976 [==============================] - 29s 29ms/step - loss: 1.6325\n",
      "Epoch 15/50\n",
      "976/976 [==============================] - 30s 31ms/step - loss: 1.5435\n",
      "Epoch 16/50\n",
      "976/976 [==============================] - 30s 31ms/step - loss: 1.4921\n",
      "Epoch 17/50\n",
      "976/976 [==============================] - 26s 27ms/step - loss: 1.3295\n",
      "Epoch 18/50\n",
      "976/976 [==============================] - 27s 28ms/step - loss: 1.2589\n",
      "Epoch 19/50\n",
      "976/976 [==============================] - 29s 29ms/step - loss: 1.1697\n",
      "Epoch 20/50\n",
      "976/976 [==============================] - 28s 28ms/step - loss: 1.0868\n",
      "Epoch 21/50\n",
      "976/976 [==============================] - 26s 27ms/step - loss: 0.9592\n",
      "Epoch 22/50\n",
      "976/976 [==============================] - 27s 28ms/step - loss: 0.9248\n",
      "Epoch 23/50\n",
      "976/976 [==============================] - 27s 27ms/step - loss: 0.8573\n",
      "Epoch 24/50\n",
      "976/976 [==============================] - 28s 28ms/step - loss: 0.7606\n",
      "Epoch 25/50\n",
      "976/976 [==============================] - 27s 28ms/step - loss: 0.6688\n",
      "Epoch 26/50\n",
      "976/976 [==============================] - 24s 25ms/step - loss: 0.5538\n",
      "Epoch 27/50\n",
      "976/976 [==============================] - 23s 24ms/step - loss: 0.5005\n",
      "Epoch 28/50\n",
      "976/976 [==============================] - 20s 20ms/step - loss: 0.4743\n",
      "Epoch 29/50\n",
      "976/976 [==============================] - 14s 14ms/step - loss: 0.4115\n",
      "Epoch 30/50\n",
      "976/976 [==============================] - 10s 11ms/step - loss: 0.3539\n",
      "Epoch 31/50\n",
      "976/976 [==============================] - 10s 10ms/step - loss: 0.3076\n",
      "Epoch 32/50\n",
      "976/976 [==============================] - 10s 11ms/step - loss: 0.2674\n",
      "Epoch 33/50\n",
      "976/976 [==============================] - 10s 11ms/step - loss: 0.2483\n",
      "Epoch 34/50\n",
      "976/976 [==============================] - 11s 11ms/step - loss: 0.2111\n",
      "Epoch 35/50\n",
      "976/976 [==============================] - 12s 12ms/step - loss: 0.1855\n",
      "Epoch 36/50\n",
      "976/976 [==============================] - 12s 12ms/step - loss: 0.1674\n",
      "Epoch 37/50\n",
      "976/976 [==============================] - 11s 11ms/step - loss: 0.1367\n",
      "Epoch 38/50\n",
      "976/976 [==============================] - 10s 11ms/step - loss: 0.1197\n",
      "Epoch 39/50\n",
      "976/976 [==============================] - 11s 11ms/step - loss: 0.1001\n",
      "Epoch 40/50\n",
      "976/976 [==============================] - 11s 11ms/step - loss: 0.0896\n",
      "Epoch 41/50\n",
      "976/976 [==============================] - 10s 10ms/step - loss: 0.0906\n",
      "Epoch 42/50\n",
      "976/976 [==============================] - 12s 12ms/step - loss: 0.0730\n",
      "Epoch 43/50\n",
      "976/976 [==============================] - 10s 11ms/step - loss: 0.0669\n",
      "Epoch 44/50\n",
      "976/976 [==============================] - 10s 10ms/step - loss: 0.0653\n",
      "Epoch 45/50\n",
      "976/976 [==============================] - 11s 11ms/step - loss: 0.0516\n",
      "Epoch 46/50\n",
      "976/976 [==============================] - 11s 11ms/step - loss: 0.0487\n",
      "Epoch 47/50\n",
      "976/976 [==============================] - 11s 11ms/step - loss: 0.0442\n",
      "Epoch 48/50\n",
      "976/976 [==============================] - 10s 10ms/step - loss: 0.0392\n",
      "Epoch 49/50\n",
      "976/976 [==============================] - 11s 11ms/step - loss: 0.0374\n",
      "Epoch 50/50\n",
      "976/976 [==============================] - 10s 10ms/step - loss: 0.0348\n"
     ]
    },
    {
     "data": {
      "text/plain": [
       "<keras.callbacks.History at 0x1f39fb5a390>"
      ]
     },
     "execution_count": 141,
     "metadata": {},
     "output_type": "execute_result"
    }
   ],
   "source": [
    "model.fit(xtrainy, ytrain, epochs=50, batch_size=122,verbose=1)"
   ]
  },
  {
   "cell_type": "markdown",
   "metadata": {},
   "source": [
    "Now lets type(pick) 16 characters for seeding pupose of lstm and then let it generate rest\n",
    "Lets pick 45th element in x as beginning of series"
   ]
  },
  {
   "cell_type": "code",
   "execution_count": 159,
   "metadata": {},
   "outputs": [
    {
     "name": "stdout",
     "output_type": "stream",
     "text": [
      "(1, 16, 44)\n"
     ]
    }
   ],
   "source": [
    "xtest=x[44:44+16,:]\n",
    "xtest=np.reshape(xtest,(1,16,44))\n",
    "print(xtest.shape)"
   ]
  },
  {
   "cell_type": "markdown",
   "metadata": {},
   "source": [
    "Lets generate next 10 characters"
   ]
  },
  {
   "cell_type": "code",
   "execution_count": 160,
   "metadata": {},
   "outputs": [
    {
     "name": "stdout",
     "output_type": "stream",
     "text": [
      "a\n",
      "n\n",
      "d\n",
      " \n",
      "l\n",
      "i\n",
      "g\n",
      "h\n",
      "t\n",
      "n\n"
     ]
    }
   ],
   "source": [
    "for i in range(0,10):\n",
    "    c=np.argmax(model.predict(xtest))\n",
    "    ch=back_map(c)\n",
    "    print(ch)\n",
    "    spydy=xtest.reshape(16,44)\n",
    "    venom=np.zeros(44)\n",
    "    venom[c]=1\n",
    "    xtest=np.vstack((spydy[1:16,:],venom.reshape(1,-1)))\n",
    "    xtest=np.reshape(xtest,(1,16,44))"
   ]
  },
  {
   "cell_type": "code",
   "execution_count": null,
   "metadata": {},
   "outputs": [],
   "source": []
  },
  {
   "cell_type": "code",
   "execution_count": null,
   "metadata": {},
   "outputs": [],
   "source": []
  }
 ],
 "metadata": {
  "kernelspec": {
   "display_name": "Python 3",
   "language": "python",
   "name": "python3"
  },
  "language_info": {
   "codemirror_mode": {
    "name": "ipython",
    "version": 3
   },
   "file_extension": ".py",
   "mimetype": "text/x-python",
   "name": "python",
   "nbconvert_exporter": "python",
   "pygments_lexer": "ipython3",
   "version": "3.6.4"
  }
 },
 "nbformat": 4,
 "nbformat_minor": 2
}
